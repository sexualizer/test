{
  "nbformat": 4,
  "nbformat_minor": 0,
  "metadata": {
    "colab": {
      "provenance": []
    },
    "kernelspec": {
      "name": "python3",
      "display_name": "Python 3"
    },
    "language_info": {
      "name": "python"
    }
  },
  "cells": [
    {
      "cell_type": "code",
      "source": [
        "from pyspark.sql import SparkSession\n",
        "from pyspark.sql.functions import col, to_date\n",
        "\n",
        "# Создание SparkSession\n",
        "spark = SparkSession.builder.appName(\"Read CSV Example\").getOrCreate()\n",
        "\n",
        "# Чтение CSV-файла\n",
        "df = spark.read.csv(\"web_server_logs.csv\", header=True, inferSchema=True)\n",
        "\n",
        "# 1\n",
        "ip_grouped = df.groupBy(\"ip\").agg({\"method\": \"count\"}).withColumnRenamed(\"count(method)\", \"request_count\")\n",
        "print(\"Top 10 active IP-addresses:\")\n",
        "ip_grouped.show(10)\n",
        "\n",
        "# 2\n",
        "method_grouped = df.groupBy(\"method\").agg({\"method\": \"count\"}).withColumnRenamed(\"count(method)\", \"method_count\")\n",
        "print(\"Request count by HTTP method:\")\n",
        "method_grouped.show()\n",
        "\n",
        "# 3\n",
        "errors = df.filter(df[\"response_code\"] == \"404\").count()\n",
        "print(\"404 responses: \", errors, \"\\n\")\n",
        "\n",
        "# 4\n",
        "df = df.withColumn(\"timestamp\", to_date(col(\"timestamp\")))\n",
        "date_grouped = df.groupBy(\"timestamp\").agg({\"response_size\": \"sum\"}).withColumnRenamed(\n",
        "    \"sum(response_size)\", \"total_response_size\").orderBy(col(\"timestamp\"))\n",
        "print(\"Total response size by day:\")\n",
        "date_grouped.show()\n",
        "\n",
        "spark.stop()"
      ],
      "metadata": {
        "colab": {
          "base_uri": "https://localhost:8080/"
        },
        "id": "wxkW4-Utkvqz",
        "outputId": "01a41676-c645-4b00-9515-b25334624011"
      },
      "execution_count": 26,
      "outputs": [
        {
          "output_type": "stream",
          "name": "stdout",
          "text": [
            "Top 10 active IP-addresses:\n",
            "+--------------+-------------+\n",
            "|            ip|request_count|\n",
            "+--------------+-------------+\n",
            "|136.19.117.236|            1|\n",
            "| 48.134.93.249|            1|\n",
            "| 42.66.100.116|            1|\n",
            "|   205.9.226.8|            1|\n",
            "|25.189.170.104|            1|\n",
            "|117.132.141.27|            1|\n",
            "|  168.55.48.81|            1|\n",
            "|   41.27.30.81|            1|\n",
            "|116.52.163.180|            1|\n",
            "| 152.247.37.68|            1|\n",
            "+--------------+-------------+\n",
            "only showing top 10 rows\n",
            "\n",
            "Request count by HTTP method:\n",
            "+------+------------+\n",
            "|method|method_count|\n",
            "+------+------------+\n",
            "|  POST|       24941|\n",
            "|DELETE|       25037|\n",
            "|   PUT|       24922|\n",
            "|   GET|       25100|\n",
            "+------+------------+\n",
            "\n",
            "404 responses:  24870 \n",
            "\n",
            "Total response size by day:\n",
            "+----------+-------------------+\n",
            "| timestamp|total_response_size|\n",
            "+----------+-------------------+\n",
            "|2024-01-01|            1445099|\n",
            "|2024-01-02|            1581598|\n",
            "|2024-01-03|            1534305|\n",
            "|2024-01-04|            1565388|\n",
            "|2024-01-05|            1554089|\n",
            "|2024-01-06|            1319093|\n",
            "|2024-01-07|            1582532|\n",
            "|2024-01-08|            1482012|\n",
            "|2024-01-09|            1479378|\n",
            "|2024-01-10|            1454902|\n",
            "|2024-01-11|            1406360|\n",
            "|2024-01-12|            1509709|\n",
            "|2024-01-13|            1306063|\n",
            "|2024-01-14|            1462297|\n",
            "|2024-01-15|            1521589|\n",
            "|2024-01-16|            1433889|\n",
            "|2024-01-17|            1387506|\n",
            "|2024-01-18|            1425598|\n",
            "|2024-01-19|            1525238|\n",
            "|2024-01-20|            1495362|\n",
            "+----------+-------------------+\n",
            "only showing top 20 rows\n",
            "\n"
          ]
        }
      ]
    }
  ]
}